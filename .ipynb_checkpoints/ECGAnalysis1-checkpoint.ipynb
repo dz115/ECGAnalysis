{
 "cells": [
  {
   "cell_type": "markdown",
   "id": "845eaa1a-0185-4487-8cf1-47aa2d0f9a85",
   "metadata": {},
   "source": [
    "ECG Analysis Project Converting wfdb to csv"
   ]
  },
  {
   "cell_type": "code",
   "execution_count": 20,
   "id": "ec364788-b954-473a-b378-ed23d29fa367",
   "metadata": {},
   "outputs": [],
   "source": [
    "import wfdb\n",
    "import csv\n",
    "patient100 = wfdb.rdrecord(r\"C:\\Users\\Danie\\Downloads\\mit-bih-arrhythmia-database-1.0.0\\mit-bih-arrhythmia-database-1.0.0\\100\"); \n",
    "#just used raw string(r) to not have to add a lotta --> \\\n",
    "#wfdb.plot_wfdb(patient100);\n",
    "patient_number = patient100.record_name\n",
    "leads = patient100.sig_name\n",
    "ecg_data = patient100.p_signal\n",
    "filename = f\"{patient_number}.csv\"\n",
    "outfile = open(filename, \"w\")\n",
    "out_csv = csv.writer(outfile)\n",
    "\n",
    "# Write CSV header with lead names\n",
    "out_csv.writerow(leads)\n",
    "\n",
    "# Write ECG data to CSV\n",
    "for row in ecg_data:\n",
    "    out_csv.writerow(row)"
   ]
  },
  {
   "cell_type": "code",
   "execution_count": 21,
   "id": "86d68826-f9a0-44c4-a66c-b1c89fc8818b",
   "metadata": {},
   "outputs": [
    {
     "name": "stdout",
     "output_type": "stream",
     "text": [
      "C:\\Users\\Danie\n"
     ]
    }
   ],
   "source": [
    "import os\n",
    "print(os.getcwd())"
   ]
  },
  {
   "cell_type": "markdown",
   "id": "e4a3a623-01e0-4a6b-a61b-934bd12ecde4",
   "metadata": {},
   "source": [
    "Data from:\n",
    "\n",
    "Moody GB, Mark RG. The impact of the MIT-BIH Arrhythmia Database. IEEE Eng in Med and Biol 20(3):45-50 (May-June 2001). (PMID: 11446209)\n",
    "\n",
    "Goldberger, A., Amaral, L., Glass, L., Hausdorff, J., Ivanov, P. C., Mark, R., ... & Stanley, H. E. (2000). PhysioBank, PhysioToolkit, and PhysioNet: Components of a new research resource for complex physiologic signals. Circulation [Online]. 101 (23), pp. e215–e220."
   ]
  }
 ],
 "metadata": {
  "kernelspec": {
   "display_name": "Python 3 (ipykernel)",
   "language": "python",
   "name": "python3"
  },
  "language_info": {
   "codemirror_mode": {
    "name": "ipython",
    "version": 3
   },
   "file_extension": ".py",
   "mimetype": "text/x-python",
   "name": "python",
   "nbconvert_exporter": "python",
   "pygments_lexer": "ipython3",
   "version": "3.11.5"
  }
 },
 "nbformat": 4,
 "nbformat_minor": 5
}
